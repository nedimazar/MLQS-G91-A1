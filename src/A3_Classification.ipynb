{
 "cells": [
  {
   "cell_type": "markdown",
   "metadata": {},
   "source": [
    "# Classification attempt using ch7_classification"
   ]
  },
  {
   "cell_type": "code",
   "execution_count": null,
   "metadata": {},
   "outputs": [],
   "source": [
    "import sys\n",
    "!conda install --yes --prefix {sys.prefix} scikit-learn\n",
    "!conda install --yes --prefix {sys.prefix} xgboost\n",
    "!conda install --yes --prefix {sys.prefix} seaborn\n",
    "!conda install --yes --prefix {sys.prefix} matplotlib"
   ]
  },
  {
   "cell_type": "code",
   "execution_count": 202,
   "metadata": {},
   "outputs": [],
   "source": [
    "import os\n",
    "import copy\n",
    "import numpy as np\n",
    "import pandas as pd\n",
    "import matplotlib.pyplot as plt\n",
    "from sklearn.model_selection import train_test_split\n",
    "\n",
    "from util import util\n",
    "from util.VisualizeDataset import VisualizeDataset"
   ]
  },
  {
   "cell_type": "code",
   "execution_count": 203,
   "metadata": {},
   "outputs": [
    {
     "name": "stdout",
     "output_type": "stream",
     "text": [
      "Index(['Unnamed: 0', 'acc_x', 'acc_y', 'acc_z', 'grav_x', 'grav_y', 'grav_z',\n",
      "       'lin_x', 'lin_y', 'lin_z', 'gyr_x', 'gyr_y', 'gyr_z',\n",
      "       'time_since_start', 'timestamp_date', 'timestamp_ms', 'label-jogging',\n",
      "       'label-cycling', 'label-football', 'label-jumprope', 'label-pushups',\n",
      "       'label-sitting', 'label-swimming', 'label-tennis', 'label-walking',\n",
      "       'lin_x_max_freq_ws20', 'lin_y_max_freq_ws20', 'lin_z_max_freq_ws20',\n",
      "       'lin_x_max_freq_ws40', 'lin_y_max_freq_ws40', 'lin_z_max_freq_ws40'],\n",
      "      dtype='object')\n"
     ]
    },
    {
     "data": {
      "text/html": [
       "<div>\n",
       "<style scoped>\n",
       "    .dataframe tbody tr th:only-of-type {\n",
       "        vertical-align: middle;\n",
       "    }\n",
       "\n",
       "    .dataframe tbody tr th {\n",
       "        vertical-align: top;\n",
       "    }\n",
       "\n",
       "    .dataframe thead th {\n",
       "        text-align: right;\n",
       "    }\n",
       "</style>\n",
       "<table border=\"1\" class=\"dataframe\">\n",
       "  <thead>\n",
       "    <tr style=\"text-align: right;\">\n",
       "      <th></th>\n",
       "      <th>Unnamed: 0</th>\n",
       "      <th>acc_x</th>\n",
       "      <th>acc_y</th>\n",
       "      <th>acc_z</th>\n",
       "      <th>grav_x</th>\n",
       "      <th>grav_y</th>\n",
       "      <th>grav_z</th>\n",
       "      <th>lin_x</th>\n",
       "      <th>lin_y</th>\n",
       "      <th>lin_z</th>\n",
       "      <th>...</th>\n",
       "      <th>label-sitting</th>\n",
       "      <th>label-swimming</th>\n",
       "      <th>label-tennis</th>\n",
       "      <th>label-walking</th>\n",
       "      <th>lin_x_max_freq_ws20</th>\n",
       "      <th>lin_y_max_freq_ws20</th>\n",
       "      <th>lin_z_max_freq_ws20</th>\n",
       "      <th>lin_x_max_freq_ws40</th>\n",
       "      <th>lin_y_max_freq_ws40</th>\n",
       "      <th>lin_z_max_freq_ws40</th>\n",
       "    </tr>\n",
       "  </thead>\n",
       "  <tbody>\n",
       "    <tr>\n",
       "      <th>0</th>\n",
       "      <td>0</td>\n",
       "      <td>5.00870</td>\n",
       "      <td>3.5865</td>\n",
       "      <td>6.0478</td>\n",
       "      <td>3.00250</td>\n",
       "      <td>4.03080</td>\n",
       "      <td>8.42070</td>\n",
       "      <td>2.0062</td>\n",
       "      <td>-0.4442</td>\n",
       "      <td>-2.3730</td>\n",
       "      <td>...</td>\n",
       "      <td>0</td>\n",
       "      <td>0</td>\n",
       "      <td>0</td>\n",
       "      <td>0</td>\n",
       "      <td>NaN</td>\n",
       "      <td>NaN</td>\n",
       "      <td>NaN</td>\n",
       "      <td>NaN</td>\n",
       "      <td>NaN</td>\n",
       "      <td>NaN</td>\n",
       "    </tr>\n",
       "    <tr>\n",
       "      <th>1</th>\n",
       "      <td>1</td>\n",
       "      <td>9.29790</td>\n",
       "      <td>-9.0417</td>\n",
       "      <td>3.4058</td>\n",
       "      <td>6.11765</td>\n",
       "      <td>3.60885</td>\n",
       "      <td>3.77155</td>\n",
       "      <td>1.2018</td>\n",
       "      <td>2.6037</td>\n",
       "      <td>9.4019</td>\n",
       "      <td>...</td>\n",
       "      <td>0</td>\n",
       "      <td>0</td>\n",
       "      <td>0</td>\n",
       "      <td>0</td>\n",
       "      <td>NaN</td>\n",
       "      <td>NaN</td>\n",
       "      <td>NaN</td>\n",
       "      <td>NaN</td>\n",
       "      <td>NaN</td>\n",
       "      <td>NaN</td>\n",
       "    </tr>\n",
       "    <tr>\n",
       "      <th>2</th>\n",
       "      <td>2</td>\n",
       "      <td>13.58710</td>\n",
       "      <td>-21.6699</td>\n",
       "      <td>0.7638</td>\n",
       "      <td>9.23280</td>\n",
       "      <td>3.18690</td>\n",
       "      <td>-0.87760</td>\n",
       "      <td>22.8759</td>\n",
       "      <td>-0.5101</td>\n",
       "      <td>20.9578</td>\n",
       "      <td>...</td>\n",
       "      <td>0</td>\n",
       "      <td>0</td>\n",
       "      <td>0</td>\n",
       "      <td>0</td>\n",
       "      <td>NaN</td>\n",
       "      <td>NaN</td>\n",
       "      <td>NaN</td>\n",
       "      <td>NaN</td>\n",
       "      <td>NaN</td>\n",
       "      <td>NaN</td>\n",
       "    </tr>\n",
       "    <tr>\n",
       "      <th>3</th>\n",
       "      <td>3</td>\n",
       "      <td>5.62875</td>\n",
       "      <td>0.4956</td>\n",
       "      <td>10.9619</td>\n",
       "      <td>8.47780</td>\n",
       "      <td>-1.96420</td>\n",
       "      <td>-4.52110</td>\n",
       "      <td>4.7023</td>\n",
       "      <td>23.7443</td>\n",
       "      <td>25.2070</td>\n",
       "      <td>...</td>\n",
       "      <td>0</td>\n",
       "      <td>0</td>\n",
       "      <td>0</td>\n",
       "      <td>0</td>\n",
       "      <td>NaN</td>\n",
       "      <td>NaN</td>\n",
       "      <td>NaN</td>\n",
       "      <td>NaN</td>\n",
       "      <td>NaN</td>\n",
       "      <td>NaN</td>\n",
       "    </tr>\n",
       "    <tr>\n",
       "      <th>4</th>\n",
       "      <td>4</td>\n",
       "      <td>-2.32960</td>\n",
       "      <td>22.6611</td>\n",
       "      <td>21.1600</td>\n",
       "      <td>8.37730</td>\n",
       "      <td>-2.77790</td>\n",
       "      <td>-4.27480</td>\n",
       "      <td>1.3718</td>\n",
       "      <td>25.8676</td>\n",
       "      <td>28.1546</td>\n",
       "      <td>...</td>\n",
       "      <td>0</td>\n",
       "      <td>0</td>\n",
       "      <td>0</td>\n",
       "      <td>0</td>\n",
       "      <td>NaN</td>\n",
       "      <td>NaN</td>\n",
       "      <td>NaN</td>\n",
       "      <td>NaN</td>\n",
       "      <td>NaN</td>\n",
       "      <td>NaN</td>\n",
       "    </tr>\n",
       "  </tbody>\n",
       "</table>\n",
       "<p>5 rows × 31 columns</p>\n",
       "</div>"
      ],
      "text/plain": [
       "   Unnamed: 0     acc_x    acc_y    acc_z   grav_x   grav_y   grav_z    lin_x  \\\n",
       "0           0   5.00870   3.5865   6.0478  3.00250  4.03080  8.42070   2.0062   \n",
       "1           1   9.29790  -9.0417   3.4058  6.11765  3.60885  3.77155   1.2018   \n",
       "2           2  13.58710 -21.6699   0.7638  9.23280  3.18690 -0.87760  22.8759   \n",
       "3           3   5.62875   0.4956  10.9619  8.47780 -1.96420 -4.52110   4.7023   \n",
       "4           4  -2.32960  22.6611  21.1600  8.37730 -2.77790 -4.27480   1.3718   \n",
       "\n",
       "     lin_y    lin_z  ...  label-sitting  label-swimming  label-tennis  \\\n",
       "0  -0.4442  -2.3730  ...              0               0             0   \n",
       "1   2.6037   9.4019  ...              0               0             0   \n",
       "2  -0.5101  20.9578  ...              0               0             0   \n",
       "3  23.7443  25.2070  ...              0               0             0   \n",
       "4  25.8676  28.1546  ...              0               0             0   \n",
       "\n",
       "   label-walking lin_x_max_freq_ws20  lin_y_max_freq_ws20  \\\n",
       "0              0                 NaN                  NaN   \n",
       "1              0                 NaN                  NaN   \n",
       "2              0                 NaN                  NaN   \n",
       "3              0                 NaN                  NaN   \n",
       "4              0                 NaN                  NaN   \n",
       "\n",
       "   lin_z_max_freq_ws20  lin_x_max_freq_ws40  lin_y_max_freq_ws40  \\\n",
       "0                  NaN                  NaN                  NaN   \n",
       "1                  NaN                  NaN                  NaN   \n",
       "2                  NaN                  NaN                  NaN   \n",
       "3                  NaN                  NaN                  NaN   \n",
       "4                  NaN                  NaN                  NaN   \n",
       "\n",
       "   lin_z_max_freq_ws40  \n",
       "0                  NaN  \n",
       "1                  NaN  \n",
       "2                  NaN  \n",
       "3                  NaN  \n",
       "4                  NaN  \n",
       "\n",
       "[5 rows x 31 columns]"
      ]
     },
     "execution_count": 203,
     "metadata": {},
     "output_type": "execute_result"
    }
   ],
   "source": [
    "dataset = pd.read_csv(\"./A3_dataset/COMBINED_ch4_result.csv\")\n",
    "print(dataset.columns)\n",
    "dataset.head()"
   ]
  },
  {
   "cell_type": "markdown",
   "metadata": {},
   "source": [
    "# Knn classification"
   ]
  },
  {
   "cell_type": "code",
   "execution_count": 204,
   "metadata": {},
   "outputs": [],
   "source": [
    "from sklearn.neighbors import KNeighborsClassifier\n",
    "\n",
    "# Making a single label column\n",
    "labels = ['label-jogging','label-cycling', 'label-football', 'label-jumprope', 'label-pushups', 'label-sitting', 'label-swimming', 'label-tennis', 'label-walking']\n",
    "activities = ['jogging','cycling', 'football', 'jumprope', 'pushups', 'sitting', 'swimming', 'tennis', 'walking']\n",
    "\n",
    "activity_labels = []\n",
    "\n",
    "for i in range(len(dataset)):\n",
    "    for j in range(len(labels)):\n",
    "        if dataset[labels[j]][i] == 1:\n",
    "            activity_labels.append(activities[j])\n"
   ]
  },
  {
   "cell_type": "code",
   "execution_count": 216,
   "metadata": {},
   "outputs": [
    {
     "data": {
      "text/plain": [
       "Counter({'jogging': 303,\n",
       "         'cycling': 6764,\n",
       "         'football': 9549,\n",
       "         'jumprope': 2902,\n",
       "         'pushups': 418,\n",
       "         'sitting': 17195,\n",
       "         'swimming': 3034,\n",
       "         'tennis': 14360,\n",
       "         'walking': 1435})"
      ]
     },
     "execution_count": 216,
     "metadata": {},
     "output_type": "execute_result"
    }
   ],
   "source": [
    "from collections import Counter\n",
    "Counter(activity_labels)"
   ]
  },
  {
   "cell_type": "code",
   "execution_count": 205,
   "metadata": {},
   "outputs": [
    {
     "name": "stderr",
     "output_type": "stream",
     "text": [
      "/tmp/ipykernel_20722/3761499697.py:5: FutureWarning: Dropping of nuisance columns in DataFrame reductions (with 'numeric_only=None') is deprecated; in a future version this will raise TypeError.  Select only valid columns before calling the reduction.\n",
      "  dataset_filled[dataset_columns] = dataset_filled[dataset_columns].fillna(dataset_filled[dataset_columns].mean())\n"
     ]
    }
   ],
   "source": [
    "# Quickly impute every instance of missing values with median\n",
    "\n",
    "dataset_filled = dataset.copy()\n",
    "dataset_columns = dataset_filled.columns\n",
    "dataset_filled[dataset_columns] = dataset_filled[dataset_columns].fillna(dataset_filled[dataset_columns].mean())"
   ]
  },
  {
   "cell_type": "code",
   "execution_count": 206,
   "metadata": {},
   "outputs": [],
   "source": [
    "dataset_filled = dataset_filled.drop(labels + [\"Unnamed: 0\", \"timestamp_date\", \"timestamp_ms\", \"time_since_start\", \n",
    "\n",
    "       # 'lin_x_max_freq_ws20', 'lin_y_max_freq_ws20', 'lin_z_max_freq_ws20', 'lin_x_max_freq_ws40',\n",
    "       # 'lin_y_max_freq_ws40', 'lin_z_max_freq_ws40'\n",
    "       \n",
    "       ], axis=1)"
   ]
  },
  {
   "cell_type": "code",
   "execution_count": 207,
   "metadata": {},
   "outputs": [
    {
     "data": {
      "text/plain": [
       "Index(['acc_x', 'acc_y', 'acc_z', 'grav_x', 'grav_y', 'grav_z', 'lin_x',\n",
       "       'lin_y', 'lin_z', 'gyr_x', 'gyr_y', 'gyr_z', 'lin_x_max_freq_ws20',\n",
       "       'lin_y_max_freq_ws20', 'lin_z_max_freq_ws20', 'lin_x_max_freq_ws40',\n",
       "       'lin_y_max_freq_ws40', 'lin_z_max_freq_ws40'],\n",
       "      dtype='object')"
      ]
     },
     "execution_count": 207,
     "metadata": {},
     "output_type": "execute_result"
    }
   ],
   "source": [
    "dataset_filled.columns"
   ]
  },
  {
   "cell_type": "code",
   "execution_count": 208,
   "metadata": {},
   "outputs": [],
   "source": [
    "X_train, X_test, y_train, y_test = train_test_split(dataset_filled, activity_labels, test_size=0.33, shuffle=True)"
   ]
  },
  {
   "cell_type": "code",
   "execution_count": 209,
   "metadata": {},
   "outputs": [],
   "source": [
    "knn_clf=KNeighborsClassifier()\n",
    "knn_clf.fit(X_train,y_train)\n",
    "ypreds=knn_clf.predict(X_test)"
   ]
  },
  {
   "cell_type": "code",
   "execution_count": 210,
   "metadata": {},
   "outputs": [
    {
     "name": "stderr",
     "output_type": "stream",
     "text": [
      "/tmp/ipykernel_20722/1753925427.py:8: RuntimeWarning: More than 20 figures have been opened. Figures created through the pyplot interface (`matplotlib.pyplot.figure`) are retained until explicitly closed and may consume too much memory. (To control this warning, see the rcParam `figure.max_open_warning`).\n",
      "  plt.figure(figsize = (10,7))\n"
     ]
    }
   ],
   "source": [
    "from sklearn.metrics import confusion_matrix\n",
    "import seaborn as sn\n",
    "import matplotlib.pyplot as plt\n",
    "\n",
    "conf_matrix = confusion_matrix(list(ypreds), y_test)\n",
    "df_cm = pd.DataFrame(conf_matrix, index = activities, columns = activities)\n",
    "\n",
    "plt.figure(figsize = (10,7))\n",
    "sn.heatmap(df_cm, annot=True, cmap=\"BuPu\")\n",
    "plt.show()"
   ]
  },
  {
   "cell_type": "code",
   "execution_count": 211,
   "metadata": {},
   "outputs": [
    {
     "data": {
      "text/plain": [
       "array([[1994,   96,   22,   96,   18,    1,   30,   87,   16],\n",
       "       [  73, 2495,   26,   85,    4,    4,   13,  408,   90],\n",
       "       [   2,    3,   23,    2,    0,    0,    0,    4,    0],\n",
       "       [  25,   59,    9,  661,    2,    0,   18,   54,    7],\n",
       "       [   8,    2,    2,    5,  107,    1,   10,    5,    9],\n",
       "       [   9,    8,    0,    1,    0, 5687,    8,    0,    0],\n",
       "       [  15,    8,    6,    4,   16,    0,  894,    9,    3],\n",
       "       [  80,  414,   13,  105,    4,    0,   13, 4107,   51],\n",
       "       [   4,   47,    5,   13,    3,    0,    4,   30,  330]])"
      ]
     },
     "execution_count": 211,
     "metadata": {},
     "output_type": "execute_result"
    }
   ],
   "source": [
    "conf_matrix"
   ]
  },
  {
   "cell_type": "code",
   "execution_count": 201,
   "metadata": {},
   "outputs": [
    {
     "data": {
      "text/plain": [
       "0.8806866742594254"
      ]
     },
     "execution_count": 201,
     "metadata": {},
     "output_type": "execute_result"
    }
   ],
   "source": [
    "from sklearn.metrics import f1_score\n",
    "\n",
    "f1_score(y_test, ypreds, average='weighted')"
   ]
  },
  {
   "cell_type": "markdown",
   "metadata": {},
   "source": [
    "### Quick test"
   ]
  },
  {
   "cell_type": "code",
   "execution_count": 212,
   "metadata": {},
   "outputs": [
    {
     "data": {
      "text/plain": [
       "0.14528443344616512"
      ]
     },
     "execution_count": 212,
     "metadata": {},
     "output_type": "execute_result"
    }
   ],
   "source": [
    "ypreds_test = []\n",
    "\n",
    "for i in range(len(y_test)):\n",
    "    ypreds_test.append(\"sitting\")\n",
    "\n",
    "f1_score(y_test, ypreds_test, average='weighted')"
   ]
  },
  {
   "cell_type": "markdown",
   "metadata": {},
   "source": [
    "# Random Forest"
   ]
  },
  {
   "cell_type": "code",
   "execution_count": 184,
   "metadata": {},
   "outputs": [],
   "source": [
    "from sklearn.ensemble import RandomForestClassifier\n",
    "\n",
    "clf= RandomForestClassifier()\n",
    "clf.fit(X_train,y_train)\n",
    "ypreds=clf.predict(X_test)"
   ]
  },
  {
   "cell_type": "code",
   "execution_count": 185,
   "metadata": {},
   "outputs": [
    {
     "name": "stderr",
     "output_type": "stream",
     "text": [
      "/tmp/ipykernel_20722/1978059746.py:4: RuntimeWarning: More than 20 figures have been opened. Figures created through the pyplot interface (`matplotlib.pyplot.figure`) are retained until explicitly closed and may consume too much memory. (To control this warning, see the rcParam `figure.max_open_warning`).\n",
      "  plt.figure(figsize = (10,7))\n"
     ]
    }
   ],
   "source": [
    "conf_matrix = confusion_matrix(list(ypreds), y_test)\n",
    "df_cm = pd.DataFrame(conf_matrix, index = activities, columns = activities)\n",
    "\n",
    "plt.figure(figsize = (10,7))\n",
    "sn.heatmap(df_cm, annot=True, cmap=\"BuPu\")\n",
    "plt.show()"
   ]
  },
  {
   "cell_type": "code",
   "execution_count": 186,
   "metadata": {},
   "outputs": [
    {
     "data": {
      "text/plain": [
       "array([[2042,   17,    9,   74,   11,    5,   19,   28,   10],\n",
       "       [  33, 2789,   10,   59,    1,    1,    2,  305,   72],\n",
       "       [   0,    0,   34,    0,    0,    0,    0,    0,    0],\n",
       "       [  21,    5,    1,  637,    2,    0,    1,   16,    7],\n",
       "       [   6,    0,    0,    3,  108,    2,    8,    9,    7],\n",
       "       [   1,    2,    0,    0,    0, 5784,    1,    0,    0],\n",
       "       [  17,    0,    5,   14,   18,    2,  962,   12,    1],\n",
       "       [ 106,  302,   19,  128,    2,    2,    9, 4266,   38],\n",
       "       [   9,   10,    3,   15,    2,    0,    0,   17,  366]])"
      ]
     },
     "execution_count": 186,
     "metadata": {},
     "output_type": "execute_result"
    }
   ],
   "source": [
    "conf_matrix"
   ]
  },
  {
   "cell_type": "markdown",
   "metadata": {},
   "source": [
    "# Boosting"
   ]
  },
  {
   "cell_type": "code",
   "execution_count": 187,
   "metadata": {},
   "outputs": [
    {
     "name": "stderr",
     "output_type": "stream",
     "text": [
      "/home/damion/anaconda3/envs/mlqs/lib/python3.8/site-packages/xgboost/sklearn.py:1224: UserWarning: The use of label encoder in XGBClassifier is deprecated and will be removed in a future release. To remove this warning, do the following: 1) Pass option use_label_encoder=False when constructing XGBClassifier object; and 2) Encode your labels (y) as integers starting with 0, i.e. 0, 1, 2, ..., [num_class - 1].\n",
      "  warnings.warn(label_encoder_deprecation_msg, UserWarning)\n",
      "/home/damion/anaconda3/envs/mlqs/lib/python3.8/site-packages/xgboost/data.py:250: FutureWarning: pandas.Int64Index is deprecated and will be removed from pandas in a future version. Use pandas.Index with the appropriate dtype instead.\n",
      "  elif isinstance(data.columns, (pd.Int64Index, pd.RangeIndex)):\n"
     ]
    },
    {
     "name": "stdout",
     "output_type": "stream",
     "text": [
      "[13:34:12] WARNING: ../src/learner.cc:1115: Starting in XGBoost 1.3.0, the default evaluation metric used with the objective 'multi:softprob' was changed from 'merror' to 'mlogloss'. Explicitly set eval_metric if you'd like to restore the old behavior.\n"
     ]
    }
   ],
   "source": [
    "from xgboost import XGBClassifier\n",
    "\n",
    "clf = XGBClassifier()\n",
    "clf.fit(X_train,y_train)\n",
    "ypreds=clf.predict(X_test)"
   ]
  },
  {
   "cell_type": "code",
   "execution_count": 188,
   "metadata": {},
   "outputs": [
    {
     "name": "stderr",
     "output_type": "stream",
     "text": [
      "/tmp/ipykernel_20722/1978059746.py:4: RuntimeWarning: More than 20 figures have been opened. Figures created through the pyplot interface (`matplotlib.pyplot.figure`) are retained until explicitly closed and may consume too much memory. (To control this warning, see the rcParam `figure.max_open_warning`).\n",
      "  plt.figure(figsize = (10,7))\n"
     ]
    }
   ],
   "source": [
    "conf_matrix = confusion_matrix(list(ypreds), y_test)\n",
    "df_cm = pd.DataFrame(conf_matrix, index = activities, columns = activities)\n",
    "\n",
    "plt.figure(figsize = (10,7))\n",
    "sn.heatmap(df_cm, annot=True, cmap=\"BuPu\")\n",
    "plt.show()"
   ]
  },
  {
   "cell_type": "code",
   "execution_count": 189,
   "metadata": {},
   "outputs": [
    {
     "data": {
      "text/plain": [
       "array([[2045,   19,    1,   63,   12,    5,   20,   31,    8],\n",
       "       [  34, 2750,    8,   49,    0,    1,    2,  331,   37],\n",
       "       [   1,    1,   46,    0,    0,    0,    0,    1,    1],\n",
       "       [  32,   12,    4,  675,    5,    0,    4,   35,   10],\n",
       "       [   3,    0,    0,    3,  105,    3,    5,    5,    5],\n",
       "       [   2,    4,    0,    0,    0, 5784,    3,    0,    0],\n",
       "       [  16,    0,    2,    8,   17,    0,  953,   10,    2],\n",
       "       [  96,  328,   16,  117,    3,    3,   11, 4228,   36],\n",
       "       [   6,   11,    4,   15,    2,    0,    4,   12,  402]])"
      ]
     },
     "execution_count": 189,
     "metadata": {},
     "output_type": "execute_result"
    }
   ],
   "source": [
    "conf_matrix"
   ]
  },
  {
   "cell_type": "code",
   "execution_count": null,
   "metadata": {},
   "outputs": [],
   "source": []
  },
  {
   "cell_type": "code",
   "execution_count": null,
   "metadata": {},
   "outputs": [],
   "source": []
  }
 ],
 "metadata": {
  "interpreter": {
   "hash": "4819abdf2d327f3dd1d118fff99eb22e8a5108499ce784dcfc5b109c0354e0c2"
  },
  "kernelspec": {
   "display_name": "Python 3.8.8 ('mlqs')",
   "language": "python",
   "name": "python3"
  },
  "language_info": {
   "codemirror_mode": {
    "name": "ipython",
    "version": 3
   },
   "file_extension": ".py",
   "mimetype": "text/x-python",
   "name": "python",
   "nbconvert_exporter": "python",
   "pygments_lexer": "ipython3",
   "version": "3.8.8"
  },
  "orig_nbformat": 4
 },
 "nbformat": 4,
 "nbformat_minor": 2
}
