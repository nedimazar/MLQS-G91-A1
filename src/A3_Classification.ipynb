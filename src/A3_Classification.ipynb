{
 "cells": [
  {
   "cell_type": "markdown",
   "metadata": {},
   "source": [
    "# Classification attempt using ch7_classification"
   ]
  },
  {
   "cell_type": "code",
   "execution_count": 3,
   "metadata": {},
   "outputs": [],
   "source": [
    "import sys\n",
    "# !conda install --yes --prefix {sys.prefix} scikit-learn\n",
    "# !conda install --yes --prefix {sys.prefix} xgboost\n",
    "# !conda install --yes --prefix {sys.prefix} seaborn\n",
    "# !conda install --yes --prefix {sys.prefix} matplotlib\n",
    "\n",
    "%matplotlib inline"
   ]
  },
  {
   "cell_type": "code",
   "execution_count": 4,
   "metadata": {},
   "outputs": [],
   "source": [
    "import os\n",
    "import copy\n",
    "import numpy as np\n",
    "import pandas as pd\n",
    "import matplotlib.pyplot as plt\n",
    "from sklearn.model_selection import train_test_split\n",
    "\n",
    "from util import util\n",
    "from util.VisualizeDataset import VisualizeDataset"
   ]
  },
  {
   "cell_type": "code",
   "execution_count": 5,
   "metadata": {},
   "outputs": [
    {
     "name": "stdout",
     "output_type": "stream",
     "text": [
      "Index(['Unnamed: 0', 'acc_x', 'acc_y', 'acc_z', 'grav_x', 'grav_y', 'grav_z',\n",
      "       'lin_x', 'lin_y', 'lin_z', 'gyr_x', 'gyr_y', 'gyr_z',\n",
      "       'time_since_start', 'timestamp_date', 'timestamp_ms', 'label-jogging',\n",
      "       'label-cycling', 'label-football', 'label-jumprope', 'label-pushups',\n",
      "       'label-sitting', 'label-swimming', 'label-tennis', 'label-walking',\n",
      "       'lin_x_max_freq_ws20', 'lin_y_max_freq_ws20', 'lin_z_max_freq_ws20',\n",
      "       'lin_x_max_freq_ws40', 'lin_y_max_freq_ws40', 'lin_z_max_freq_ws40'],\n",
      "      dtype='object')\n"
     ]
    },
    {
     "data": {
      "text/html": [
       "<div>\n",
       "<style scoped>\n",
       "    .dataframe tbody tr th:only-of-type {\n",
       "        vertical-align: middle;\n",
       "    }\n",
       "\n",
       "    .dataframe tbody tr th {\n",
       "        vertical-align: top;\n",
       "    }\n",
       "\n",
       "    .dataframe thead th {\n",
       "        text-align: right;\n",
       "    }\n",
       "</style>\n",
       "<table border=\"1\" class=\"dataframe\">\n",
       "  <thead>\n",
       "    <tr style=\"text-align: right;\">\n",
       "      <th></th>\n",
       "      <th>Unnamed: 0</th>\n",
       "      <th>acc_x</th>\n",
       "      <th>acc_y</th>\n",
       "      <th>acc_z</th>\n",
       "      <th>grav_x</th>\n",
       "      <th>grav_y</th>\n",
       "      <th>grav_z</th>\n",
       "      <th>lin_x</th>\n",
       "      <th>lin_y</th>\n",
       "      <th>lin_z</th>\n",
       "      <th>...</th>\n",
       "      <th>label-sitting</th>\n",
       "      <th>label-swimming</th>\n",
       "      <th>label-tennis</th>\n",
       "      <th>label-walking</th>\n",
       "      <th>lin_x_max_freq_ws20</th>\n",
       "      <th>lin_y_max_freq_ws20</th>\n",
       "      <th>lin_z_max_freq_ws20</th>\n",
       "      <th>lin_x_max_freq_ws40</th>\n",
       "      <th>lin_y_max_freq_ws40</th>\n",
       "      <th>lin_z_max_freq_ws40</th>\n",
       "    </tr>\n",
       "  </thead>\n",
       "  <tbody>\n",
       "    <tr>\n",
       "      <th>0</th>\n",
       "      <td>0</td>\n",
       "      <td>5.00870</td>\n",
       "      <td>3.5865</td>\n",
       "      <td>6.0478</td>\n",
       "      <td>3.00250</td>\n",
       "      <td>4.03080</td>\n",
       "      <td>8.42070</td>\n",
       "      <td>2.0062</td>\n",
       "      <td>-0.4442</td>\n",
       "      <td>-2.3730</td>\n",
       "      <td>...</td>\n",
       "      <td>0</td>\n",
       "      <td>0</td>\n",
       "      <td>0</td>\n",
       "      <td>0</td>\n",
       "      <td>NaN</td>\n",
       "      <td>NaN</td>\n",
       "      <td>NaN</td>\n",
       "      <td>NaN</td>\n",
       "      <td>NaN</td>\n",
       "      <td>NaN</td>\n",
       "    </tr>\n",
       "    <tr>\n",
       "      <th>1</th>\n",
       "      <td>1</td>\n",
       "      <td>9.29790</td>\n",
       "      <td>-9.0417</td>\n",
       "      <td>3.4058</td>\n",
       "      <td>6.11765</td>\n",
       "      <td>3.60885</td>\n",
       "      <td>3.77155</td>\n",
       "      <td>1.2018</td>\n",
       "      <td>2.6037</td>\n",
       "      <td>9.4019</td>\n",
       "      <td>...</td>\n",
       "      <td>0</td>\n",
       "      <td>0</td>\n",
       "      <td>0</td>\n",
       "      <td>0</td>\n",
       "      <td>NaN</td>\n",
       "      <td>NaN</td>\n",
       "      <td>NaN</td>\n",
       "      <td>NaN</td>\n",
       "      <td>NaN</td>\n",
       "      <td>NaN</td>\n",
       "    </tr>\n",
       "    <tr>\n",
       "      <th>2</th>\n",
       "      <td>2</td>\n",
       "      <td>13.58710</td>\n",
       "      <td>-21.6699</td>\n",
       "      <td>0.7638</td>\n",
       "      <td>9.23280</td>\n",
       "      <td>3.18690</td>\n",
       "      <td>-0.87760</td>\n",
       "      <td>22.8759</td>\n",
       "      <td>-0.5101</td>\n",
       "      <td>20.9578</td>\n",
       "      <td>...</td>\n",
       "      <td>0</td>\n",
       "      <td>0</td>\n",
       "      <td>0</td>\n",
       "      <td>0</td>\n",
       "      <td>NaN</td>\n",
       "      <td>NaN</td>\n",
       "      <td>NaN</td>\n",
       "      <td>NaN</td>\n",
       "      <td>NaN</td>\n",
       "      <td>NaN</td>\n",
       "    </tr>\n",
       "    <tr>\n",
       "      <th>3</th>\n",
       "      <td>3</td>\n",
       "      <td>5.62875</td>\n",
       "      <td>0.4956</td>\n",
       "      <td>10.9619</td>\n",
       "      <td>8.47780</td>\n",
       "      <td>-1.96420</td>\n",
       "      <td>-4.52110</td>\n",
       "      <td>4.7023</td>\n",
       "      <td>23.7443</td>\n",
       "      <td>25.2070</td>\n",
       "      <td>...</td>\n",
       "      <td>0</td>\n",
       "      <td>0</td>\n",
       "      <td>0</td>\n",
       "      <td>0</td>\n",
       "      <td>NaN</td>\n",
       "      <td>NaN</td>\n",
       "      <td>NaN</td>\n",
       "      <td>NaN</td>\n",
       "      <td>NaN</td>\n",
       "      <td>NaN</td>\n",
       "    </tr>\n",
       "    <tr>\n",
       "      <th>4</th>\n",
       "      <td>4</td>\n",
       "      <td>-2.32960</td>\n",
       "      <td>22.6611</td>\n",
       "      <td>21.1600</td>\n",
       "      <td>8.37730</td>\n",
       "      <td>-2.77790</td>\n",
       "      <td>-4.27480</td>\n",
       "      <td>1.3718</td>\n",
       "      <td>25.8676</td>\n",
       "      <td>28.1546</td>\n",
       "      <td>...</td>\n",
       "      <td>0</td>\n",
       "      <td>0</td>\n",
       "      <td>0</td>\n",
       "      <td>0</td>\n",
       "      <td>NaN</td>\n",
       "      <td>NaN</td>\n",
       "      <td>NaN</td>\n",
       "      <td>NaN</td>\n",
       "      <td>NaN</td>\n",
       "      <td>NaN</td>\n",
       "    </tr>\n",
       "  </tbody>\n",
       "</table>\n",
       "<p>5 rows × 31 columns</p>\n",
       "</div>"
      ],
      "text/plain": [
       "   Unnamed: 0     acc_x    acc_y    acc_z   grav_x   grav_y   grav_z    lin_x  \\\n",
       "0           0   5.00870   3.5865   6.0478  3.00250  4.03080  8.42070   2.0062   \n",
       "1           1   9.29790  -9.0417   3.4058  6.11765  3.60885  3.77155   1.2018   \n",
       "2           2  13.58710 -21.6699   0.7638  9.23280  3.18690 -0.87760  22.8759   \n",
       "3           3   5.62875   0.4956  10.9619  8.47780 -1.96420 -4.52110   4.7023   \n",
       "4           4  -2.32960  22.6611  21.1600  8.37730 -2.77790 -4.27480   1.3718   \n",
       "\n",
       "     lin_y    lin_z  ...  label-sitting  label-swimming  label-tennis  \\\n",
       "0  -0.4442  -2.3730  ...              0               0             0   \n",
       "1   2.6037   9.4019  ...              0               0             0   \n",
       "2  -0.5101  20.9578  ...              0               0             0   \n",
       "3  23.7443  25.2070  ...              0               0             0   \n",
       "4  25.8676  28.1546  ...              0               0             0   \n",
       "\n",
       "   label-walking lin_x_max_freq_ws20  lin_y_max_freq_ws20  \\\n",
       "0              0                 NaN                  NaN   \n",
       "1              0                 NaN                  NaN   \n",
       "2              0                 NaN                  NaN   \n",
       "3              0                 NaN                  NaN   \n",
       "4              0                 NaN                  NaN   \n",
       "\n",
       "   lin_z_max_freq_ws20  lin_x_max_freq_ws40  lin_y_max_freq_ws40  \\\n",
       "0                  NaN                  NaN                  NaN   \n",
       "1                  NaN                  NaN                  NaN   \n",
       "2                  NaN                  NaN                  NaN   \n",
       "3                  NaN                  NaN                  NaN   \n",
       "4                  NaN                  NaN                  NaN   \n",
       "\n",
       "   lin_z_max_freq_ws40  \n",
       "0                  NaN  \n",
       "1                  NaN  \n",
       "2                  NaN  \n",
       "3                  NaN  \n",
       "4                  NaN  \n",
       "\n",
       "[5 rows x 31 columns]"
      ]
     },
     "execution_count": 5,
     "metadata": {},
     "output_type": "execute_result"
    }
   ],
   "source": [
    "dataset = pd.read_csv(\"./A3_dataset/COMBINED_ch4_result.csv\")\n",
    "print(dataset.columns)\n",
    "dataset.head()"
   ]
  },
  {
   "cell_type": "markdown",
   "metadata": {},
   "source": [
    "# Knn classification"
   ]
  },
  {
   "cell_type": "code",
   "execution_count": 6,
   "metadata": {},
   "outputs": [],
   "source": [
    "from sklearn.neighbors import KNeighborsClassifier\n",
    "\n",
    "# Making a single label column\n",
    "labels = ['label-jogging','label-cycling', 'label-football', 'label-jumprope', 'label-pushups', 'label-sitting', 'label-swimming', 'label-tennis', 'label-walking']\n",
    "activities = ['jogging','cycling', 'football', 'jumprope', 'pushups', 'sitting', 'swimming', 'tennis', 'walking']\n",
    "\n",
    "activity_labels = []\n",
    "\n",
    "for i in range(len(dataset)):\n",
    "    for j in range(len(labels)):\n",
    "        if dataset[labels[j]][i] == 1:\n",
    "            activity_labels.append(activities[j])\n"
   ]
  },
  {
   "cell_type": "code",
   "execution_count": 7,
   "metadata": {},
   "outputs": [
    {
     "data": {
      "text/plain": [
       "Counter({'jogging': 303,\n",
       "         'cycling': 6764,\n",
       "         'football': 9549,\n",
       "         'jumprope': 2902,\n",
       "         'pushups': 418,\n",
       "         'sitting': 17195,\n",
       "         'swimming': 3034,\n",
       "         'tennis': 14360,\n",
       "         'walking': 1435})"
      ]
     },
     "execution_count": 7,
     "metadata": {},
     "output_type": "execute_result"
    }
   ],
   "source": [
    "from collections import Counter\n",
    "Counter(activity_labels)"
   ]
  },
  {
   "cell_type": "code",
   "execution_count": 8,
   "metadata": {},
   "outputs": [
    {
     "name": "stderr",
     "output_type": "stream",
     "text": [
      "/tmp/ipykernel_35721/3761499697.py:5: FutureWarning: Dropping of nuisance columns in DataFrame reductions (with 'numeric_only=None') is deprecated; in a future version this will raise TypeError.  Select only valid columns before calling the reduction.\n",
      "  dataset_filled[dataset_columns] = dataset_filled[dataset_columns].fillna(dataset_filled[dataset_columns].mean())\n"
     ]
    }
   ],
   "source": [
    "# Quickly impute every instance of missing values with median\n",
    "\n",
    "dataset_filled = dataset.copy()\n",
    "dataset_columns = dataset_filled.columns\n",
    "dataset_filled[dataset_columns] = dataset_filled[dataset_columns].fillna(dataset_filled[dataset_columns].mean())"
   ]
  },
  {
   "cell_type": "code",
   "execution_count": 9,
   "metadata": {},
   "outputs": [],
   "source": [
    "dataset_filled = dataset_filled.drop(labels + [\"Unnamed: 0\", \"timestamp_date\", \"timestamp_ms\", \"time_since_start\", \n",
    "\n",
    "       # 'lin_x_max_freq_ws20', 'lin_y_max_freq_ws20', 'lin_z_max_freq_ws20', 'lin_x_max_freq_ws40',\n",
    "       # 'lin_y_max_freq_ws40', 'lin_z_max_freq_ws40'\n",
    "       \n",
    "       ], axis=1)"
   ]
  },
  {
   "cell_type": "code",
   "execution_count": 10,
   "metadata": {},
   "outputs": [
    {
     "data": {
      "text/plain": [
       "Index(['acc_x', 'acc_y', 'acc_z', 'grav_x', 'grav_y', 'grav_z', 'lin_x',\n",
       "       'lin_y', 'lin_z', 'gyr_x', 'gyr_y', 'gyr_z', 'lin_x_max_freq_ws20',\n",
       "       'lin_y_max_freq_ws20', 'lin_z_max_freq_ws20', 'lin_x_max_freq_ws40',\n",
       "       'lin_y_max_freq_ws40', 'lin_z_max_freq_ws40'],\n",
       "      dtype='object')"
      ]
     },
     "execution_count": 10,
     "metadata": {},
     "output_type": "execute_result"
    }
   ],
   "source": [
    "dataset_filled.columns"
   ]
  },
  {
   "cell_type": "code",
   "execution_count": 11,
   "metadata": {},
   "outputs": [],
   "source": [
    "X_train, X_test, y_train, y_test = train_test_split(dataset_filled, activity_labels, test_size=0.33, shuffle=True)"
   ]
  },
  {
   "cell_type": "code",
   "execution_count": 12,
   "metadata": {},
   "outputs": [],
   "source": [
    "knn_clf=KNeighborsClassifier()\n",
    "knn_clf.fit(X_train,y_train)\n",
    "ypreds=knn_clf.predict(X_test)"
   ]
  },
  {
   "cell_type": "code",
   "execution_count": 26,
   "metadata": {},
   "outputs": [],
   "source": [
    "from sklearn.metrics import confusion_matrix\n",
    "from sklearn.metrics import classification_report\n",
    "import seaborn as sn\n",
    "import matplotlib.pyplot as plt\n",
    "\n",
    "conf_matrix = confusion_matrix(list(ypreds), y_test)\n",
    "df_cm = pd.DataFrame(conf_matrix, index = activities, columns = activities)\n",
    "\n",
    "plt.figure(figsize = (10,7))\n",
    "sn.heatmap(df_cm, annot=True, cmap=\"BuPu\")\n",
    "plt.savefig(\"./daim_figures/knn_classification.png\")\n",
    "plt.show()"
   ]
  },
  {
   "cell_type": "code",
   "execution_count": 14,
   "metadata": {},
   "outputs": [
    {
     "data": {
      "text/plain": [
       "array([[1969,   95,   21,  101,   17,    4,   36,   89,   12],\n",
       "       [  73, 2490,   30,   88,    0,    4,    9,  488,   99],\n",
       "       [   2,    3,   16,    4,    0,    0,    0,    1,    0],\n",
       "       [  27,   54,   10,  675,    1,    2,   14,   60,   11],\n",
       "       [   5,    4,    2,    4,  114,    3,   10,   10,    7],\n",
       "       [   3,    6,    0,    0,    0, 5698,    9,    1,    1],\n",
       "       [  10,    6,    6,    9,    9,    2,  900,    6,    3],\n",
       "       [  59,  450,   12,   92,    3,    0,   12, 4024,   42],\n",
       "       [   5,   57,    3,   17,    2,    1,    7,   30,  318]])"
      ]
     },
     "execution_count": 14,
     "metadata": {},
     "output_type": "execute_result"
    }
   ],
   "source": [
    "conf_matrix"
   ]
  },
  {
   "cell_type": "code",
   "execution_count": 28,
   "metadata": {},
   "outputs": [
    {
     "name": "stdout",
     "output_type": "stream",
     "text": [
      "              precision    recall  f1-score   support\n",
      "\n",
      "     jogging       0.66      0.47      0.55      2153\n",
      "     cycling       0.52      0.86      0.65      3165\n",
      "    football       0.14      0.67      0.23       100\n",
      "    jumprope       0.48      0.12      0.19       990\n",
      "     pushups       0.25      0.84      0.38       146\n",
      "     sitting       1.00      0.96      0.98      5714\n",
      "    swimming       0.83      0.71      0.76       997\n",
      "      tennis       0.79      0.59      0.67      4709\n",
      "     walking       0.36      0.42      0.39       493\n",
      "\n",
      "    accuracy                           0.72     18467\n",
      "   macro avg       0.56      0.63      0.53     18467\n",
      "weighted avg       0.76      0.72      0.72     18467\n",
      "\n"
     ]
    }
   ],
   "source": [
    "print(classification_report(y_test, ypreds, target_names=activities))"
   ]
  },
  {
   "cell_type": "markdown",
   "metadata": {},
   "source": [
    "# Random Forest"
   ]
  },
  {
   "cell_type": "code",
   "execution_count": 17,
   "metadata": {},
   "outputs": [],
   "source": [
    "from sklearn.ensemble import RandomForestClassifier\n",
    "\n",
    "clf= RandomForestClassifier()\n",
    "clf.fit(X_train,y_train)\n",
    "ypreds=clf.predict(X_test)"
   ]
  },
  {
   "cell_type": "code",
   "execution_count": 18,
   "metadata": {},
   "outputs": [],
   "source": [
    "conf_matrix = confusion_matrix(list(ypreds), y_test)\n",
    "df_cm = pd.DataFrame(conf_matrix, index = activities, columns = activities)\n",
    "\n",
    "plt.figure(figsize = (10,7))\n",
    "sn.heatmap(df_cm, annot=True, cmap=\"BuPu\")\n",
    "plt.savefig(\"./daim_figures/r_forest_classification.png\")\n",
    "plt.show()"
   ]
  },
  {
   "cell_type": "code",
   "execution_count": 19,
   "metadata": {},
   "outputs": [
    {
     "data": {
      "text/plain": [
       "array([[1973,   30,   23,   79,   16,   14,   29,   36,    7],\n",
       "       [  27, 2813,   17,   74,    0,    2,    4,  271,   51],\n",
       "       [   0,    0,   25,    0,    0,    0,    0,    0,    0],\n",
       "       [  15,   12,    2,  691,    0,    0,    0,   27,    8],\n",
       "       [   4,    1,    0,    1,  104,    4,    3,    6,   11],\n",
       "       [   1,    0,    0,    0,    0, 5693,    2,    1,    0],\n",
       "       [  15,    2,    8,   11,   21,    1,  948,    3,    2],\n",
       "       [ 108,  302,   18,  122,    3,    0,    8, 4353,   40],\n",
       "       [  10,    5,    7,   12,    2,    0,    3,   12,  374]])"
      ]
     },
     "execution_count": 19,
     "metadata": {},
     "output_type": "execute_result"
    }
   ],
   "source": [
    "conf_matrix"
   ]
  },
  {
   "cell_type": "code",
   "execution_count": null,
   "metadata": {},
   "outputs": [],
   "source": [
    "print(classification_report(y_test, ypreds, target_names=activities))"
   ]
  },
  {
   "cell_type": "markdown",
   "metadata": {},
   "source": [
    "# Boosting"
   ]
  },
  {
   "cell_type": "code",
   "execution_count": 20,
   "metadata": {},
   "outputs": [
    {
     "name": "stderr",
     "output_type": "stream",
     "text": [
      "/home/damion/anaconda3/envs/mlqs/lib/python3.8/site-packages/xgboost/compat.py:36: FutureWarning: pandas.Int64Index is deprecated and will be removed from pandas in a future version. Use pandas.Index with the appropriate dtype instead.\n",
      "  from pandas import MultiIndex, Int64Index\n",
      "/home/damion/anaconda3/envs/mlqs/lib/python3.8/site-packages/xgboost/sklearn.py:1224: UserWarning: The use of label encoder in XGBClassifier is deprecated and will be removed in a future release. To remove this warning, do the following: 1) Pass option use_label_encoder=False when constructing XGBClassifier object; and 2) Encode your labels (y) as integers starting with 0, i.e. 0, 1, 2, ..., [num_class - 1].\n",
      "  warnings.warn(label_encoder_deprecation_msg, UserWarning)\n",
      "/home/damion/anaconda3/envs/mlqs/lib/python3.8/site-packages/xgboost/data.py:250: FutureWarning: pandas.Int64Index is deprecated and will be removed from pandas in a future version. Use pandas.Index with the appropriate dtype instead.\n",
      "  elif isinstance(data.columns, (pd.Int64Index, pd.RangeIndex)):\n"
     ]
    },
    {
     "name": "stdout",
     "output_type": "stream",
     "text": [
      "[09:20:06] WARNING: ../src/learner.cc:1115: Starting in XGBoost 1.3.0, the default evaluation metric used with the objective 'multi:softprob' was changed from 'merror' to 'mlogloss'. Explicitly set eval_metric if you'd like to restore the old behavior.\n"
     ]
    }
   ],
   "source": [
    "from xgboost import XGBClassifier\n",
    "\n",
    "clf = XGBClassifier()\n",
    "clf.fit(X_train,y_train)\n",
    "ypreds=clf.predict(X_test)"
   ]
  },
  {
   "cell_type": "code",
   "execution_count": 21,
   "metadata": {},
   "outputs": [],
   "source": [
    "conf_matrix = confusion_matrix(list(ypreds), y_test)\n",
    "df_cm = pd.DataFrame(conf_matrix, index = activities, columns = activities)\n",
    "\n",
    "plt.figure(figsize = (10,7))\n",
    "sn.heatmap(df_cm, annot=True, cmap=\"BuPu\")\n",
    "plt.savefig(\"./daim_figures/xgboost_classification.png\")\n",
    "plt.show()"
   ]
  },
  {
   "cell_type": "code",
   "execution_count": 22,
   "metadata": {},
   "outputs": [
    {
     "data": {
      "text/plain": [
       "array([[1988,   31,   10,   71,   17,    8,   25,   33,    8],\n",
       "       [  28, 2754,   10,   60,    1,    2,    1,  319,   28],\n",
       "       [   1,    4,   46,    2,    0,    0,    0,    1,    0],\n",
       "       [  26,   17,    4,  727,    0,    0,    3,   30,    7],\n",
       "       [   3,    0,    0,    2,  103,    1,    5,    1,    4],\n",
       "       [   0,    2,    1,    1,    0, 5697,    4,    1,    0],\n",
       "       [   8,    2,    3,    7,   20,    2,  945,    3,    0],\n",
       "       [  93,  343,   19,  110,    3,    2,   11, 4295,   27],\n",
       "       [   6,   12,    7,   10,    2,    2,    3,   26,  419]])"
      ]
     },
     "execution_count": 22,
     "metadata": {},
     "output_type": "execute_result"
    }
   ],
   "source": [
    "conf_matrix"
   ]
  },
  {
   "cell_type": "code",
   "execution_count": null,
   "metadata": {},
   "outputs": [],
   "source": [
    "print(classification_report(y_test, ypreds, target_names=activities))"
   ]
  },
  {
   "cell_type": "markdown",
   "metadata": {},
   "source": [
    "# Naive Bayes"
   ]
  },
  {
   "cell_type": "code",
   "execution_count": 23,
   "metadata": {},
   "outputs": [],
   "source": [
    "from sklearn.naive_bayes import GaussianNB\n",
    "\n",
    "gnb = GaussianNB()\n",
    "gnb.fit(X_train, y_train).predict(X_test)\n",
    "ypreds= gnb.predict(X_test)"
   ]
  },
  {
   "cell_type": "code",
   "execution_count": 24,
   "metadata": {},
   "outputs": [],
   "source": [
    "conf_matrix = confusion_matrix(list(ypreds), y_test)\n",
    "df_cm = pd.DataFrame(conf_matrix, index = activities, columns = activities)\n",
    "\n",
    "plt.figure(figsize = (10,7))\n",
    "sn.heatmap(df_cm, annot=True, cmap=\"BuPu\")\n",
    "plt.savefig(\"./daim_figures/NB_classification.png\")\n",
    "plt.show()"
   ]
  },
  {
   "cell_type": "code",
   "execution_count": null,
   "metadata": {},
   "outputs": [],
   "source": [
    "conf_matrix"
   ]
  },
  {
   "cell_type": "code",
   "execution_count": null,
   "metadata": {},
   "outputs": [],
   "source": [
    "print(classification_report(y_test, ypreds, target_names=activities))"
   ]
  },
  {
   "cell_type": "markdown",
   "metadata": {},
   "source": [
    "# SVM"
   ]
  },
  {
   "cell_type": "code",
   "execution_count": 32,
   "metadata": {},
   "outputs": [],
   "source": [
    "from sklearn.pipeline import make_pipeline\n",
    "from sklearn.preprocessing import StandardScaler\n",
    "from sklearn.svm import SVC\n",
    "\n",
    "clf = make_pipeline(StandardScaler(), SVC(gamma='auto'))\n",
    "clf.fit(X_train, y_train)\n",
    "ypreds= clf.predict(X_test)"
   ]
  },
  {
   "cell_type": "code",
   "execution_count": 33,
   "metadata": {},
   "outputs": [],
   "source": [
    "conf_matrix = confusion_matrix(list(ypreds), y_test)\n",
    "df_cm = pd.DataFrame(conf_matrix, index = activities, columns = activities)\n",
    "\n",
    "plt.figure(figsize = (10,7))\n",
    "sn.heatmap(df_cm, annot=True, cmap=\"BuPu\")\n",
    "plt.savefig(\"./daim_figures/SVM_classification.png\")\n",
    "plt.show()"
   ]
  },
  {
   "cell_type": "code",
   "execution_count": 34,
   "metadata": {},
   "outputs": [
    {
     "data": {
      "text/plain": [
       "array([[1835,   72,    7,   85,   19,   22,   38,   38,    6],\n",
       "       [  37, 2434,   54,   96,    4,    6,    7,  535,   59],\n",
       "       [   1,    0,   19,    0,    0,    0,    3,    0,    0],\n",
       "       [  10,   15,    4,  552,    0,    0,    2,   28,    6],\n",
       "       [   4,    0,    0,    1,   78,    3,    4,    2,    7],\n",
       "       [  20,   17,    1,    0,    0, 5679,    7,    5,    0],\n",
       "       [  62,    9,    1,   18,   30,    1,  913,    3,    6],\n",
       "       [ 176,  602,    7,  230,    1,    3,   18, 4066,   40],\n",
       "       [   8,   16,    7,    8,   14,    0,    5,   32,  369]])"
      ]
     },
     "execution_count": 34,
     "metadata": {},
     "output_type": "execute_result"
    }
   ],
   "source": [
    "conf_matrix"
   ]
  },
  {
   "cell_type": "code",
   "execution_count": 35,
   "metadata": {},
   "outputs": [
    {
     "name": "stdout",
     "output_type": "stream",
     "text": [
      "              precision    recall  f1-score   support\n",
      "\n",
      "     jogging       0.86      0.85      0.86      2153\n",
      "     cycling       0.75      0.77      0.76      3165\n",
      "    football       0.83      0.19      0.31       100\n",
      "    jumprope       0.89      0.56      0.69       990\n",
      "     pushups       0.79      0.53      0.64       146\n",
      "     sitting       0.99      0.99      0.99      5714\n",
      "    swimming       0.88      0.92      0.90       997\n",
      "      tennis       0.79      0.86      0.83      4709\n",
      "     walking       0.80      0.75      0.78       493\n",
      "\n",
      "    accuracy                           0.86     18467\n",
      "   macro avg       0.84      0.71      0.75     18467\n",
      "weighted avg       0.87      0.86      0.86     18467\n",
      "\n"
     ]
    }
   ],
   "source": [
    "print(classification_report(y_test, ypreds, target_names=activities))"
   ]
  }
 ],
 "metadata": {
  "interpreter": {
   "hash": "4819abdf2d327f3dd1d118fff99eb22e8a5108499ce784dcfc5b109c0354e0c2"
  },
  "kernelspec": {
   "display_name": "Python 3.8.8 ('mlqs')",
   "language": "python",
   "name": "python3"
  },
  "language_info": {
   "codemirror_mode": {
    "name": "ipython",
    "version": 3
   },
   "file_extension": ".py",
   "mimetype": "text/x-python",
   "name": "python",
   "nbconvert_exporter": "python",
   "pygments_lexer": "ipython3",
   "version": "3.8.8"
  },
  "orig_nbformat": 4
 },
 "nbformat": 4,
 "nbformat_minor": 2
}
