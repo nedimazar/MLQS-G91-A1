{
 "cells": [
  {
   "cell_type": "markdown",
   "source": [
    "# Chapter 2"
   ],
   "metadata": {}
  },
  {
   "cell_type": "markdown",
   "source": [
    "## 1. Create your own dataset for the quantified self by using your smartphone. You can create the dataset using measurement apps on your smartphone (e.g. at the time of writing Funf, SensorLog, phybox, or SensorKinetics) or other devices. Include repeated periods with different activities (please incorporate some we have seen in the crowdsignal data and some that are different) and study the variation you see in the sensory values. Be sure to include periods without any specific activities to study the background noise of the sensors. Log the intervals at which you performed the different activities."
   ],
   "metadata": {}
  },
  {
   "cell_type": "markdown",
   "source": [
    "### a. Plot and describe the data you obtain using the libraries provided with the book."
   ],
   "metadata": {}
  },
  {
   "cell_type": "code",
   "execution_count": 81,
   "source": [
    "import pandas as pd\n",
    "import numpy as np"
   ],
   "outputs": [],
   "metadata": {}
  },
  {
   "cell_type": "code",
   "execution_count": 82,
   "source": [
    "boxing_data = pd.read_csv(\"./our_datasets/ch2_1_raw/boxing_data.csv\")\n",
    "crowd_signals = pd.read_csv(\"./datasets/crowdsignals/csv-participant-one/accelerometer_phone.csv\")"
   ],
   "outputs": [],
   "metadata": {}
  },
  {
   "cell_type": "code",
   "execution_count": 83,
   "source": [
    "crowd_signals.head()"
   ],
   "outputs": [
    {
     "output_type": "execute_result",
     "data": {
      "text/html": [
       "<div>\n",
       "<style scoped>\n",
       "    .dataframe tbody tr th:only-of-type {\n",
       "        vertical-align: middle;\n",
       "    }\n",
       "\n",
       "    .dataframe tbody tr th {\n",
       "        vertical-align: top;\n",
       "    }\n",
       "\n",
       "    .dataframe thead th {\n",
       "        text-align: right;\n",
       "    }\n",
       "</style>\n",
       "<table border=\"1\" class=\"dataframe\">\n",
       "  <thead>\n",
       "    <tr style=\"text-align: right;\">\n",
       "      <th></th>\n",
       "      <th>sensor_type</th>\n",
       "      <th>device_type</th>\n",
       "      <th>timestamps</th>\n",
       "      <th>x</th>\n",
       "      <th>y</th>\n",
       "      <th>z</th>\n",
       "    </tr>\n",
       "  </thead>\n",
       "  <tbody>\n",
       "    <tr>\n",
       "      <th>0</th>\n",
       "      <td>accelerometer</td>\n",
       "      <td>smartphone</td>\n",
       "      <td>1454956105656222395</td>\n",
       "      <td>-0.087</td>\n",
       "      <td>0.181</td>\n",
       "      <td>9.621</td>\n",
       "    </tr>\n",
       "    <tr>\n",
       "      <th>1</th>\n",
       "      <td>accelerometer</td>\n",
       "      <td>smartphone</td>\n",
       "      <td>1454956105660105781</td>\n",
       "      <td>-0.069</td>\n",
       "      <td>0.153</td>\n",
       "      <td>9.663</td>\n",
       "    </tr>\n",
       "    <tr>\n",
       "      <th>2</th>\n",
       "      <td>accelerometer</td>\n",
       "      <td>smartphone</td>\n",
       "      <td>1454956105667091406</td>\n",
       "      <td>-0.073</td>\n",
       "      <td>0.156</td>\n",
       "      <td>9.647</td>\n",
       "    </tr>\n",
       "    <tr>\n",
       "      <th>3</th>\n",
       "      <td>accelerometer</td>\n",
       "      <td>smartphone</td>\n",
       "      <td>1454956105670696615</td>\n",
       "      <td>-0.070</td>\n",
       "      <td>0.184</td>\n",
       "      <td>9.623</td>\n",
       "    </tr>\n",
       "    <tr>\n",
       "      <th>4</th>\n",
       "      <td>accelerometer</td>\n",
       "      <td>smartphone</td>\n",
       "      <td>1454956105675807552</td>\n",
       "      <td>-0.059</td>\n",
       "      <td>0.171</td>\n",
       "      <td>9.625</td>\n",
       "    </tr>\n",
       "  </tbody>\n",
       "</table>\n",
       "</div>"
      ],
      "text/plain": [
       "     sensor_type device_type           timestamps      x      y      z\n",
       "0  accelerometer  smartphone  1454956105656222395 -0.087  0.181  9.621\n",
       "1  accelerometer  smartphone  1454956105660105781 -0.069  0.153  9.663\n",
       "2  accelerometer  smartphone  1454956105667091406 -0.073  0.156  9.647\n",
       "3  accelerometer  smartphone  1454956105670696615 -0.070  0.184  9.623\n",
       "4  accelerometer  smartphone  1454956105675807552 -0.059  0.171  9.625"
      ]
     },
     "metadata": {},
     "execution_count": 83
    }
   ],
   "metadata": {}
  },
  {
   "cell_type": "code",
   "execution_count": 84,
   "source": [
    "boxing_data = boxing_data.rename(columns={\"Time (s)\":\"timestamps\", \"Acceleration x (m/s²)\": \"x\", \"Acceleration y (m/s²)\":\"y\", \"Acceleration z (m/s²)\": \"z\"})\n",
    "boxing_data[\"sensor_type\"] = \"accelerometer\"\n",
    "boxing_data[\"device_type\"] = \"smartphone\"\n",
    "boxing_data.head()"
   ],
   "outputs": [
    {
     "output_type": "execute_result",
     "data": {
      "text/html": [
       "<div>\n",
       "<style scoped>\n",
       "    .dataframe tbody tr th:only-of-type {\n",
       "        vertical-align: middle;\n",
       "    }\n",
       "\n",
       "    .dataframe tbody tr th {\n",
       "        vertical-align: top;\n",
       "    }\n",
       "\n",
       "    .dataframe thead th {\n",
       "        text-align: right;\n",
       "    }\n",
       "</style>\n",
       "<table border=\"1\" class=\"dataframe\">\n",
       "  <thead>\n",
       "    <tr style=\"text-align: right;\">\n",
       "      <th></th>\n",
       "      <th>timestamps</th>\n",
       "      <th>x</th>\n",
       "      <th>y</th>\n",
       "      <th>z</th>\n",
       "      <th>sensor_type</th>\n",
       "      <th>device_type</th>\n",
       "    </tr>\n",
       "  </thead>\n",
       "  <tbody>\n",
       "    <tr>\n",
       "      <th>0</th>\n",
       "      <td>21.081257</td>\n",
       "      <td>-3.406183</td>\n",
       "      <td>11.620444</td>\n",
       "      <td>17.364714</td>\n",
       "      <td>accelerometer</td>\n",
       "      <td>smartphone</td>\n",
       "    </tr>\n",
       "    <tr>\n",
       "      <th>1</th>\n",
       "      <td>21.083750</td>\n",
       "      <td>-2.963212</td>\n",
       "      <td>12.164213</td>\n",
       "      <td>18.694225</td>\n",
       "      <td>accelerometer</td>\n",
       "      <td>smartphone</td>\n",
       "    </tr>\n",
       "    <tr>\n",
       "      <th>2</th>\n",
       "      <td>21.086244</td>\n",
       "      <td>-2.464906</td>\n",
       "      <td>12.736696</td>\n",
       "      <td>20.066809</td>\n",
       "      <td>accelerometer</td>\n",
       "      <td>smartphone</td>\n",
       "    </tr>\n",
       "    <tr>\n",
       "      <th>3</th>\n",
       "      <td>21.088737</td>\n",
       "      <td>-1.892424</td>\n",
       "      <td>13.194324</td>\n",
       "      <td>21.451654</td>\n",
       "      <td>accelerometer</td>\n",
       "      <td>smartphone</td>\n",
       "    </tr>\n",
       "    <tr>\n",
       "      <th>4</th>\n",
       "      <td>21.091231</td>\n",
       "      <td>-1.094716</td>\n",
       "      <td>13.721342</td>\n",
       "      <td>23.058735</td>\n",
       "      <td>accelerometer</td>\n",
       "      <td>smartphone</td>\n",
       "    </tr>\n",
       "  </tbody>\n",
       "</table>\n",
       "</div>"
      ],
      "text/plain": [
       "   timestamps         x          y          z    sensor_type device_type\n",
       "0   21.081257 -3.406183  11.620444  17.364714  accelerometer  smartphone\n",
       "1   21.083750 -2.963212  12.164213  18.694225  accelerometer  smartphone\n",
       "2   21.086244 -2.464906  12.736696  20.066809  accelerometer  smartphone\n",
       "3   21.088737 -1.892424  13.194324  21.451654  accelerometer  smartphone\n",
       "4   21.091231 -1.094716  13.721342  23.058735  accelerometer  smartphone"
      ]
     },
     "metadata": {},
     "execution_count": 84
    }
   ],
   "metadata": {}
  },
  {
   "cell_type": "code",
   "execution_count": 85,
   "source": [
    "boxing_data[\"timestamps\"] = (boxing_data[\"timestamps\"] * 1000000).astype(int)"
   ],
   "outputs": [],
   "metadata": {}
  },
  {
   "cell_type": "code",
   "execution_count": 86,
   "source": [
    "boxing_data.head()"
   ],
   "outputs": [
    {
     "output_type": "execute_result",
     "data": {
      "text/html": [
       "<div>\n",
       "<style scoped>\n",
       "    .dataframe tbody tr th:only-of-type {\n",
       "        vertical-align: middle;\n",
       "    }\n",
       "\n",
       "    .dataframe tbody tr th {\n",
       "        vertical-align: top;\n",
       "    }\n",
       "\n",
       "    .dataframe thead th {\n",
       "        text-align: right;\n",
       "    }\n",
       "</style>\n",
       "<table border=\"1\" class=\"dataframe\">\n",
       "  <thead>\n",
       "    <tr style=\"text-align: right;\">\n",
       "      <th></th>\n",
       "      <th>timestamps</th>\n",
       "      <th>x</th>\n",
       "      <th>y</th>\n",
       "      <th>z</th>\n",
       "      <th>sensor_type</th>\n",
       "      <th>device_type</th>\n",
       "    </tr>\n",
       "  </thead>\n",
       "  <tbody>\n",
       "    <tr>\n",
       "      <th>0</th>\n",
       "      <td>21081256</td>\n",
       "      <td>-3.406183</td>\n",
       "      <td>11.620444</td>\n",
       "      <td>17.364714</td>\n",
       "      <td>accelerometer</td>\n",
       "      <td>smartphone</td>\n",
       "    </tr>\n",
       "    <tr>\n",
       "      <th>1</th>\n",
       "      <td>21083750</td>\n",
       "      <td>-2.963212</td>\n",
       "      <td>12.164213</td>\n",
       "      <td>18.694225</td>\n",
       "      <td>accelerometer</td>\n",
       "      <td>smartphone</td>\n",
       "    </tr>\n",
       "    <tr>\n",
       "      <th>2</th>\n",
       "      <td>21086243</td>\n",
       "      <td>-2.464906</td>\n",
       "      <td>12.736696</td>\n",
       "      <td>20.066809</td>\n",
       "      <td>accelerometer</td>\n",
       "      <td>smartphone</td>\n",
       "    </tr>\n",
       "    <tr>\n",
       "      <th>3</th>\n",
       "      <td>21088737</td>\n",
       "      <td>-1.892424</td>\n",
       "      <td>13.194324</td>\n",
       "      <td>21.451654</td>\n",
       "      <td>accelerometer</td>\n",
       "      <td>smartphone</td>\n",
       "    </tr>\n",
       "    <tr>\n",
       "      <th>4</th>\n",
       "      <td>21091230</td>\n",
       "      <td>-1.094716</td>\n",
       "      <td>13.721342</td>\n",
       "      <td>23.058735</td>\n",
       "      <td>accelerometer</td>\n",
       "      <td>smartphone</td>\n",
       "    </tr>\n",
       "  </tbody>\n",
       "</table>\n",
       "</div>"
      ],
      "text/plain": [
       "   timestamps         x          y          z    sensor_type device_type\n",
       "0    21081256 -3.406183  11.620444  17.364714  accelerometer  smartphone\n",
       "1    21083750 -2.963212  12.164213  18.694225  accelerometer  smartphone\n",
       "2    21086243 -2.464906  12.736696  20.066809  accelerometer  smartphone\n",
       "3    21088737 -1.892424  13.194324  21.451654  accelerometer  smartphone\n",
       "4    21091230 -1.094716  13.721342  23.058735  accelerometer  smartphone"
      ]
     },
     "metadata": {},
     "execution_count": 86
    }
   ],
   "metadata": {}
  },
  {
   "cell_type": "code",
   "execution_count": 87,
   "source": [
    "boxing_data.to_csv(\"./our_datasets/ch2_1/boxing_data_edited.csv\")"
   ],
   "outputs": [],
   "metadata": {}
  },
  {
   "cell_type": "code",
   "execution_count": 89,
   "source": [
    "from Chapter2.CreateDataset import CreateDataset\n",
    "from util.VisualizeDataset import VisualizeDataset\n",
    "from util import util\n",
    "from pathlib import Path\n",
    "import copy\n",
    "import os\n",
    "import sys\n",
    "\n",
    "DATASET_PATH = Path('./our_datasets/ch2_1/')\n",
    "RESULT_PATH = Path('./our_datasets/ch2_1_results/')\n",
    "RESULT_FNAME = 'chapter2_result.csv'\n",
    "\n",
    "GRANULARITIES = [250]\n",
    "[path.mkdir(exist_ok=True, parents=True) for path in [DATASET_PATH, RESULT_PATH]]\n",
    "\n",
    "print('Please wait, this will take a while to run!')\n",
    "\n",
    "datasets = []\n",
    "for milliseconds_per_instance in GRANULARITIES:\n",
    "    print(f'Creating numerical datasets from files in {DATASET_PATH} using granularity {milliseconds_per_instance}.')\n",
    "\n",
    "    # Create an initial dataset object with the base directory for our data and a granularity\n",
    "    dataset = CreateDataset(DATASET_PATH, milliseconds_per_instance)\n",
    "\n",
    "    # Add the selected measurements to it.\n",
    "\n",
    "    # We add the accelerometer data (continuous numerical measurements) of the phone and the smartwatch\n",
    "    # and aggregate the values per timestep by averaging the values\n",
    "    dataset.add_numerical_dataset('boxing_data_edited.csv', 'timestamps', ['x','y','z'], 'avg', 'acc_phone_')\n",
    "    \n",
    "    # Get the resulting pandas data table\n",
    "    dataset = dataset.data_table\n",
    "    test = dataset\n",
    "    # Plot the data\n",
    "    DataViz = VisualizeDataset(__file__)\n",
    "    # DataViz = VisualizeDataset('./our_datasets/ch2_1/')\n",
    "    \n",
    "    # Boxplot\n",
    "    DataViz.plot_dataset_boxplot(dataset, ['acc_phone_x','acc_phone_y','acc_phone_z'])\n",
    "\n",
    "    # Plot all data\n",
    "    DataViz.plot_dataset(dataset, ['acc_'])\n",
    "\n",
    "    # And print a summary of the dataset.\n",
    "    util.print_statistics(dataset)\n",
    "    datasets.append(copy.deepcopy(dataset))\n",
    "\n",
    "    # If needed, we could save the various versions of the dataset we create in the loop with logical filenames:\n",
    "    # dataset.to_csv(RESULT_PATH / f'chapter2_result_{milliseconds_per_instance}')\n",
    "\n",
    "\n",
    "# Make a table like the one shown in the book, comparing the two datasets produced.\n",
    "util.print_latex_table_statistics_two_datasets(datasets[0], datasets[1])\n",
    "\n",
    "# Finally, store the last dataset we generated (250 ms).\n",
    "dataset.to_csv(RESULT_PATH / RESULT_FNAME)\n",
    "\n",
    "# Lastly, print a statement to know the code went through\n",
    "\n",
    "print('The code has run through successfully!')"
   ],
   "outputs": [
    {
     "output_type": "stream",
     "name": "stdout",
     "text": [
      "Please wait, this will take a while to run!\n",
      "Creating numerical datasets from files in our_datasets/ch2_1 using granularity 250.\n",
      "Reading data from boxing_data_edited.csv\n"
     ]
    },
    {
     "output_type": "error",
     "ename": "NameError",
     "evalue": "name '__file__' is not defined",
     "traceback": [
      "\u001b[0;31m---------------------------------------------------------------------------\u001b[0m",
      "\u001b[0;31mNameError\u001b[0m                                 Traceback (most recent call last)",
      "Input \u001b[0;32mIn [89]\u001b[0m, in \u001b[0;36m<cell line: 19>\u001b[0;34m()\u001b[0m\n\u001b[1;32m     33\u001b[0m test \u001b[38;5;241m=\u001b[39m dataset\n\u001b[1;32m     34\u001b[0m \u001b[38;5;66;03m# Plot the data\u001b[39;00m\n\u001b[0;32m---> 35\u001b[0m DataViz \u001b[38;5;241m=\u001b[39m VisualizeDataset(\u001b[38;5;18;43m__file__\u001b[39;49m)\n\u001b[1;32m     36\u001b[0m \u001b[38;5;66;03m# DataViz = VisualizeDataset('./our_datasets/ch2_1/')\u001b[39;00m\n\u001b[1;32m     37\u001b[0m \n\u001b[1;32m     38\u001b[0m \u001b[38;5;66;03m# Boxplot\u001b[39;00m\n\u001b[1;32m     39\u001b[0m DataViz\u001b[38;5;241m.\u001b[39mplot_dataset_boxplot(dataset, [\u001b[38;5;124m'\u001b[39m\u001b[38;5;124macc_phone_x\u001b[39m\u001b[38;5;124m'\u001b[39m,\u001b[38;5;124m'\u001b[39m\u001b[38;5;124macc_phone_y\u001b[39m\u001b[38;5;124m'\u001b[39m,\u001b[38;5;124m'\u001b[39m\u001b[38;5;124macc_phone_z\u001b[39m\u001b[38;5;124m'\u001b[39m])\n",
      "\u001b[0;31mNameError\u001b[0m: name '__file__' is not defined"
     ]
    }
   ],
   "metadata": {}
  },
  {
   "cell_type": "code",
   "execution_count": 62,
   "source": [
    "test"
   ],
   "outputs": [
    {
     "output_type": "execute_result",
     "data": {
      "text/html": [
       "<div>\n",
       "<style scoped>\n",
       "    .dataframe tbody tr th:only-of-type {\n",
       "        vertical-align: middle;\n",
       "    }\n",
       "\n",
       "    .dataframe tbody tr th {\n",
       "        vertical-align: top;\n",
       "    }\n",
       "\n",
       "    .dataframe thead th {\n",
       "        text-align: right;\n",
       "    }\n",
       "</style>\n",
       "<table border=\"1\" class=\"dataframe\">\n",
       "  <thead>\n",
       "    <tr style=\"text-align: right;\">\n",
       "      <th></th>\n",
       "      <th>acc_phone_x</th>\n",
       "      <th>acc_phone_y</th>\n",
       "      <th>acc_phone_z</th>\n",
       "    </tr>\n",
       "  </thead>\n",
       "  <tbody>\n",
       "    <tr>\n",
       "      <th>1970-01-01 00:00:00.021081256</th>\n",
       "      <td>0.378903</td>\n",
       "      <td>5.99589</td>\n",
       "      <td>10.925487</td>\n",
       "    </tr>\n",
       "  </tbody>\n",
       "</table>\n",
       "</div>"
      ],
      "text/plain": [
       "                              acc_phone_x acc_phone_y acc_phone_z\n",
       "1970-01-01 00:00:00.021081256    0.378903     5.99589   10.925487"
      ]
     },
     "metadata": {},
     "execution_count": 62
    }
   ],
   "metadata": {}
  },
  {
   "cell_type": "code",
   "execution_count": null,
   "source": [],
   "outputs": [],
   "metadata": {}
  }
 ],
 "metadata": {
  "kernelspec": {
   "name": "python3",
   "display_name": "Python 3.8.8 64-bit ('mlqs': conda)"
  },
  "language_info": {
   "codemirror_mode": {
    "name": "ipython",
    "version": 3
   },
   "file_extension": ".py",
   "mimetype": "text/x-python",
   "name": "python",
   "nbconvert_exporter": "python",
   "pygments_lexer": "ipython3",
   "version": "3.8.8"
  },
  "interpreter": {
   "hash": "df14c868dcf36846bb0b1108068b57bf98ecdd06336877ba57dbad26c2cedfa4"
  }
 },
 "nbformat": 4,
 "nbformat_minor": 5
}